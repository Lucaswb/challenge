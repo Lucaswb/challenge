{
 "cells": [
  {
   "cell_type": "markdown",
   "metadata": {},
   "source": [
    "# Sensor Classification Challenge\n",
    "##### By Lucas W. Blasdel\n",
    "\n",
    "\n",
    "### Dataset:\n",
    "The original dataset contained 400 entries with 10 columns per entry. These 10 columns corresponded to sensors labeled 'sensor0' through 'sensor9' with each entry in this dataset having a value between 0 and 1. The target or class labels had values of either 1 or -1\n",
    "\n",
    "### Purpose/Results:\n",
    "__Primary purpose and results__:\n",
    "- The primary purpose of this assignment was to rank the sensors based on their imortance in predicting the class label. The results and their cross-validated f1 scores were:\n",
    "\n",
    "        1. sensor 6 - validation score: 1.0 (perfect predictor)\n",
    "        2. sensor 1 - validation score: 0.9875\n",
    "        3. sensor 2 - validation score: 0.9\n",
    "        4. sensor 4 - validation score: 0.85\n",
    "        5. sensor 8 - validation score: 0.85\n",
    "        6. sensor 0 - validation score: 0.8\n",
    "        7. sensor 5 - validation score: 0.775\n",
    "        8. sensor 3 - validation score: 0.675\n",
    "        9. sensor 9 - validation score: 0.675\n",
    "        10. sensor 7 - validation score: 0.5625 \n",
    " \n",
    "__Additional purposes__:\n",
    "- I began with a baseline model using a Gradient Boosted Classifier. This model produced a cross validated f1 - score of 1.0 indicating a perfect fit. Neverthless, it had some substantial drawbacks. I disucssed the strengths and weaknesses of using a Gradient Boosting Classifier and then recommended two additional models and discuss the strengths and weaknesses of these new models.\n"
   ]
  },
  {
   "cell_type": "code",
   "execution_count": 1,
   "metadata": {},
   "outputs": [],
   "source": [
    "# data imports\n",
    "import pandas as pd\n",
    "import numpy as np\n",
    "import seaborn as sns\n",
    "import matplotlib.pyplot as plt\n",
    "from scipy.stats import normaltest\n",
    "from sklearn.ensemble import GradientBoostingClassifier\n",
    "from sklearn.tree import DecisionTreeClassifier\n",
    "from sklearn.metrics import f1_score\n",
    "from sklearn.model_selection import train_test_split"
   ]
  },
  {
   "cell_type": "markdown",
   "metadata": {},
   "source": [
    "### Importing and Processing Data\n",
    "this process was relatively straightforward and required simpling importing the CSV file into a pandas dataframe. The sensors were already normalized between 0 and 1. After the data was loaded, I performed a simple train_test split with a training size of .8 as there were not many data points to work with. I set a random_state = 42 incase someone wishes to reproduce the results."
   ]
  },
  {
   "cell_type": "code",
   "execution_count": 2,
   "metadata": {},
   "outputs": [
    {
     "data": {
      "text/html": [
       "<div>\n",
       "<style scoped>\n",
       "    .dataframe tbody tr th:only-of-type {\n",
       "        vertical-align: middle;\n",
       "    }\n",
       "\n",
       "    .dataframe tbody tr th {\n",
       "        vertical-align: top;\n",
       "    }\n",
       "\n",
       "    .dataframe thead th {\n",
       "        text-align: right;\n",
       "    }\n",
       "</style>\n",
       "<table border=\"1\" class=\"dataframe\">\n",
       "  <thead>\n",
       "    <tr style=\"text-align: right;\">\n",
       "      <th></th>\n",
       "      <th>class_label</th>\n",
       "      <th>sensor0</th>\n",
       "      <th>sensor1</th>\n",
       "      <th>sensor2</th>\n",
       "      <th>sensor3</th>\n",
       "      <th>sensor4</th>\n",
       "      <th>sensor5</th>\n",
       "      <th>sensor6</th>\n",
       "      <th>sensor7</th>\n",
       "      <th>sensor8</th>\n",
       "      <th>sensor9</th>\n",
       "    </tr>\n",
       "  </thead>\n",
       "  <tbody>\n",
       "    <tr>\n",
       "      <th>0</th>\n",
       "      <td>1.0</td>\n",
       "      <td>0.834251</td>\n",
       "      <td>0.726081</td>\n",
       "      <td>0.535904</td>\n",
       "      <td>0.214896</td>\n",
       "      <td>0.873788</td>\n",
       "      <td>0.767605</td>\n",
       "      <td>0.111308</td>\n",
       "      <td>0.557526</td>\n",
       "      <td>0.599650</td>\n",
       "      <td>0.665569</td>\n",
       "    </tr>\n",
       "    <tr>\n",
       "      <th>1</th>\n",
       "      <td>1.0</td>\n",
       "      <td>0.804059</td>\n",
       "      <td>0.253135</td>\n",
       "      <td>0.869867</td>\n",
       "      <td>0.334285</td>\n",
       "      <td>0.604075</td>\n",
       "      <td>0.494045</td>\n",
       "      <td>0.833575</td>\n",
       "      <td>0.194190</td>\n",
       "      <td>0.014966</td>\n",
       "      <td>0.802918</td>\n",
       "    </tr>\n",
       "    <tr>\n",
       "      <th>2</th>\n",
       "      <td>1.0</td>\n",
       "      <td>0.694404</td>\n",
       "      <td>0.595777</td>\n",
       "      <td>0.581294</td>\n",
       "      <td>0.799003</td>\n",
       "      <td>0.762857</td>\n",
       "      <td>0.651393</td>\n",
       "      <td>0.075905</td>\n",
       "      <td>0.007186</td>\n",
       "      <td>0.659633</td>\n",
       "      <td>0.831009</td>\n",
       "    </tr>\n",
       "    <tr>\n",
       "      <th>3</th>\n",
       "      <td>1.0</td>\n",
       "      <td>0.783690</td>\n",
       "      <td>0.038780</td>\n",
       "      <td>0.285043</td>\n",
       "      <td>0.627305</td>\n",
       "      <td>0.800620</td>\n",
       "      <td>0.486340</td>\n",
       "      <td>0.827723</td>\n",
       "      <td>0.339807</td>\n",
       "      <td>0.731343</td>\n",
       "      <td>0.892359</td>\n",
       "    </tr>\n",
       "    <tr>\n",
       "      <th>4</th>\n",
       "      <td>1.0</td>\n",
       "      <td>0.788835</td>\n",
       "      <td>0.174433</td>\n",
       "      <td>0.348770</td>\n",
       "      <td>0.938244</td>\n",
       "      <td>0.692065</td>\n",
       "      <td>0.377620</td>\n",
       "      <td>0.183760</td>\n",
       "      <td>0.616805</td>\n",
       "      <td>0.492899</td>\n",
       "      <td>0.930969</td>\n",
       "    </tr>\n",
       "  </tbody>\n",
       "</table>\n",
       "</div>"
      ],
      "text/plain": [
       "   class_label   sensor0   sensor1   sensor2   sensor3   sensor4   sensor5  \\\n",
       "0          1.0  0.834251  0.726081  0.535904  0.214896  0.873788  0.767605   \n",
       "1          1.0  0.804059  0.253135  0.869867  0.334285  0.604075  0.494045   \n",
       "2          1.0  0.694404  0.595777  0.581294  0.799003  0.762857  0.651393   \n",
       "3          1.0  0.783690  0.038780  0.285043  0.627305  0.800620  0.486340   \n",
       "4          1.0  0.788835  0.174433  0.348770  0.938244  0.692065  0.377620   \n",
       "\n",
       "    sensor6   sensor7   sensor8   sensor9  \n",
       "0  0.111308  0.557526  0.599650  0.665569  \n",
       "1  0.833575  0.194190  0.014966  0.802918  \n",
       "2  0.075905  0.007186  0.659633  0.831009  \n",
       "3  0.827723  0.339807  0.731343  0.892359  \n",
       "4  0.183760  0.616805  0.492899  0.930969  "
      ]
     },
     "execution_count": 2,
     "metadata": {},
     "output_type": "execute_result"
    }
   ],
   "source": [
    "# data importation\n",
    "path = '../data/raw/task_data.csv'\n",
    "df_original = pd.read_csv(path)\n",
    "try:\n",
    "    df_original.drop(['sample index'], axis = 1, inplace = True) #the column labeled - 'sample index' - was superfluous and was therefore dropped\n",
    "except:\n",
    "    print('already deleted')\n",
    "df_original.head()"
   ]
  },
  {
   "cell_type": "code",
   "execution_count": 3,
   "metadata": {},
   "outputs": [],
   "source": [
    "y = df_original.class_label\n",
    "X = df_original.drop(['class_label'], axis = 1)\n",
    "\n",
    "X_train, X_test, y_train, y_test = train_test_split(X, y, train_size = .8, random_state = 42)"
   ]
  },
  {
   "cell_type": "markdown",
   "metadata": {},
   "source": [
    "### Preliminary data check\n",
    "I performed a simple preliminary check to see how the data looked and whether or not the data was normally distributed. To do this, I used the normaltest available from scipy.stats and set an alpha value of .001. For values less than this, we can conclude that the data isn't normally distributed. Seaborn was used to get a quick visual representation of how the data is distributed within each cell."
   ]
  },
  {
   "cell_type": "code",
   "execution_count": 5,
   "metadata": {},
   "outputs": [
    {
     "data": {
      "image/png": "[encoded data removed]",
      "text/plain": [
       "<Figure size 1296x720 with 10 Axes>"
      ]
     },
     "metadata": {
      "needs_background": "light"
     },
     "output_type": "display_data"
    },
    {
     "data": {
      "image/png": "[encoded data removed]",
      "text/plain": [
       "<Figure size 432x288 with 1 Axes>"
      ]
     },
     "metadata": {
      "needs_background": "light"
     },
     "output_type": "display_data"
    }
   ],
   "source": [
    "#checking normality and the shape of the distribution. I decided to set an arbitrary alpha for the normal test at .001\n",
    "from scipy.stats import normaltest\n",
    "\n",
    "# check each individual column\n",
    "fig, axes = plt.subplots(2, 5, figsize = (18,10))\n",
    "for num, col in enumerate(X.columns):\n",
    "    k2, px = normaltest(X[[col]])\n",
    "    sns.distplot(X[[col]], kde=False, ax=axes[num//5, num%5])\n",
    "    plt.title('distribution for each sensor', fontsize=24)\n",
    "\n",
    "plt.show()\n",
    "X_values = np.ravel(X.values)\n",
    "plt.title('Distribution for all values in dataframe')\n",
    "sns.distplot(X_values)\n",
    "plt.show()"
   ]
  },
  {
   "cell_type": "code",
   "execution_count": null,
   "metadata": {},
   "outputs": [],
   "source": []
  }
 ],
 "metadata": {
  "kernelspec": {
   "display_name": "Python 3 (learn-env)",
   "language": "python",
   "name": "learn-env"
  },
  "language_info": {
   "codemirror_mode": {
    "name": "ipython",
    "version": 3
   },
   "file_extension": ".py",
   "mimetype": "text/x-python",
   "name": "python",
   "nbconvert_exporter": "python",
   "pygments_lexer": "ipython3",
   "version": "3.7.4"
  }
 },
 "nbformat": 4,
 "nbformat_minor": 2
}
